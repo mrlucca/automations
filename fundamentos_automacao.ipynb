{
 "cells": [
  {
   "cell_type": "markdown",
   "metadata": {},
   "source": [
    "## autor: @lucca_vinicios\n",
    "+ Linkedin: https://www.linkedin.com/in/lucca-vinicios-8b1b5115b\n",
    "+ Github: https://github.com/MrFateId"
   ]
  },
  {
   "cell_type": "markdown",
   "metadata": {
    "colab_type": "text",
    "id": "PRFtC53lOHsu"
   },
   "source": [
    "# Testes Automatizados \n",
    "\n",
    "\n",
    "1. Teste unitário: o objetivo desse teste é garantir que, de forma isolada, o componente testado está se comportando de acordo com o esperado;\n",
    "\n",
    "\n",
    "2. Teste de integração: o objetivo desse teste é garantir que, de forma integrada, os componentes testados estão se comportando de acordo com o esperado;\n",
    "\n",
    "3. Teste funcional: o objetivo desse teste é garantir que, da visão do usuário, a funcionalidade testada está se comportando de acordo com o esperado.\n",
    "\n",
    "---\n",
    "\n"
   ]
  },
  {
   "cell_type": "markdown",
   "metadata": {
    "colab_type": "text",
    "id": "WDbYSSIZPFkj"
   },
   "source": [
    "# SELENIUM\n",
    "Selenium é uma estrutura portátil para testar aplicativos da web. O Selenium fornece uma ferramenta de reprodução para criar testes funcionais sem a necessidade de aprender uma linguagem de script de teste.\n",
    "\n",
    "---\n",
    "O WebDriver permite a utilização de diferentes navegadores, mas para isso precisamos do Driver do navegador.\n",
    "Mas para que posssa usar qualquer navegador é necessario dos drives, como o chrome drive.\n",
    "\n",
    "---\n",
    "\n"
   ]
  },
  {
   "cell_type": "markdown",
   "metadata": {
    "colab_type": "text",
    "id": "PCMBsFcqQYBp"
   },
   "source": [
    "# Referencias Bibliográficas \n",
    "\n",
    "https://imasters.com.br/back-end/autenticacao-em-um-website-usando-selenium-python-exemplo-de-selenium-python\n",
    "\n",
    "https://imasters.com.br/back-end/google-search-usando-selenium-e-python-o-basico-sobre-selenium-python"
   ]
  },
  {
   "cell_type": "code",
   "execution_count": 1,
   "metadata": {
    "colab": {},
    "colab_type": "code",
    "id": "BxUzji3UQo9P"
   },
   "outputs": [],
   "source": [
    "#importação das bibliotecas do selenium\n",
    "from selenium import webdriver\n",
    "from selenium.webdriver.common.keys import Keys"
   ]
  },
  {
   "cell_type": "markdown",
   "metadata": {
    "colab": {
     "base_uri": "https://localhost:8080/",
     "height": 34
    },
    "colab_type": "code",
    "id": "b422On3cZ6Nt",
    "outputId": "81f44ed5-bfdb-469c-8b2a-cf15ef5c3bbd"
   },
   "source": [
    "### Certfique-se que o drive do navegador esteja instalado\n",
    "\n",
    "```\n",
    "LOCAL: usr/bin\n",
    "\n",
    "```"
   ]
  },
  {
   "cell_type": "code",
   "execution_count": 2,
   "metadata": {
    "colab": {
     "base_uri": "https://localhost:8080/",
     "height": 425
    },
    "colab_type": "code",
    "id": "Mru9Me98aBZB",
    "outputId": "68b43b5b-71aa-445d-9a10-1ce8dfa72556"
   },
   "outputs": [],
   "source": [
    "#instanciando em uma váriavel o drive do navegador a ser usado\n",
    "driver = webdriver.Chrome()"
   ]
  },
  {
   "cell_type": "markdown",
   "metadata": {},
   "source": [
    "## Requisição da pag\n",
    "O método driver.get navegará para uma página fornecida pelo URL, aguardando ela ser carregada completamente(evento := onload)"
   ]
  },
  {
   "cell_type": "code",
   "execution_count": 3,
   "metadata": {},
   "outputs": [],
   "source": [
    "driver.get(\"http://www.python.org\")\n",
    "\n",
    "#faz uma pergunta ao titulo se tem a palvra python\n",
    "assert (\"Python\") in driver.title"
   ]
  },
  {
   "cell_type": "markdown",
   "metadata": {},
   "source": [
    "# Encontrar elementos na pag\n",
    "O WebDriver oferece várias maneiras de encontrar elementos usando um dos métodos find_element_by_*.\n",
    "\n",
    "1. find_element_by_id\n",
    "2. find_element_by_name\n",
    "3. find_element_by_xpath\n",
    "4. find_element_by_link_text\n",
    "5. find_element_by_partial_link_text\n",
    "6. find_element_by_tag_name\n",
    "7. find_element_by_class_name\n",
    "8. find_element_by_css_selector"
   ]
  },
  {
   "cell_type": "raw",
   "metadata": {},
   "source": [
    "---\n",
    "```\n",
    "<html>\n",
    " <body>\n",
    "  <form id=\"loginForm\">\n",
    "   <input name=\"username\" type=\"text\" />\n",
    "   <input name=\"password\" type=\"password\" />\n",
    "   <input name=\"continue\" type=\"submit\" value=\"Login\" />\n",
    "   <input name=\"continue\" type=\"button\" value=\"Clear\" />\n",
    "  </form>\n",
    "</body>\n",
    "<html>\n",
    "\n",
    "\n",
    "username = driver.find_element_by_name('username')\n",
    "password = driver.find_element_by_name('password')\n",
    "\n",
    "#basicamente clica no botão\n",
    "continue = driver.find_element_by_name('continue')\n",
    "\n",
    "```\n",
    "---"
   ]
  },
  {
   "cell_type": "code",
   "execution_count": 4,
   "metadata": {},
   "outputs": [],
   "source": [
    "get_element = driver.find_element_by_name('q') #pegando a query de pesquisa do python.org"
   ]
  },
  {
   "cell_type": "code",
   "execution_count": 5,
   "metadata": {},
   "outputs": [
    {
     "name": "stdout",
     "output_type": "stream",
     "text": [
      "<selenium.webdriver.remote.webelement.WebElement (session=\"f24038120dcaebe05e5248156aed0cac\", element=\"f0d0eb2d-87d4-47c5-8cc6-3ade603f2db0\")>\n"
     ]
    }
   ],
   "source": [
    "print(get_element)"
   ]
  },
  {
   "cell_type": "markdown",
   "metadata": {},
   "source": [
    "## Enviando teclas, semelhante a digitar teclas usando o teclado. \n",
    "Chaves especiais podem ser enviadas usando a classe Keys importada de selenium.webdriver.common.keys . \n",
    "Para garantir, limparemos primeiro qualquer texto pré-preenchido no campo de entrada (por exemplo, \"Pesquisa\") para que não afete nossos resultados de pesquisa:"
   ]
  },
  {
   "cell_type": "code",
   "execution_count": 6,
   "metadata": {},
   "outputs": [],
   "source": [
    "get_element.clear() #LIMPANDO OS DADOS\n",
    "get_element.send_keys(\"pycon\") #fazendo uma pesquisa no python.org\n",
    "get_element.send_keys(Keys.RETURN)"
   ]
  },
  {
   "cell_type": "code",
   "execution_count": 7,
   "metadata": {},
   "outputs": [],
   "source": [
    "drive2 = webdriver.Chrome()\n",
    "drive2.get(\"https://www.google.com.br\")"
   ]
  },
  {
   "cell_type": "code",
   "execution_count": 8,
   "metadata": {},
   "outputs": [],
   "source": [
    "googleSearch = drive2.find_element_by_name('q')"
   ]
  },
  {
   "cell_type": "code",
   "execution_count": 9,
   "metadata": {},
   "outputs": [],
   "source": [
    "googleSearch.clear()\n",
    "googleSearch.send_keys(\"Data Boot camp\") #faz a pesquisa simulando um teclado\n",
    "googleSearch.send_keys(Keys.RETURN)"
   ]
  },
  {
   "cell_type": "code",
   "execution_count": 10,
   "metadata": {},
   "outputs": [],
   "source": [
    "assert \"Not results found\" not in drive2.page_source ## para garantir que algum resultado seja encontrado faz essa afirmação"
   ]
  },
  {
   "cell_type": "markdown",
   "metadata": {},
   "source": [
    "## Close x quit\n",
    "\n",
    "#### co comando close() ira fachar a aba de busca sem feichar o navegador\n",
    "---\n",
    "#### já o quit() ira feichar o navegador completamente"
   ]
  },
  {
   "cell_type": "code",
   "execution_count": 11,
   "metadata": {},
   "outputs": [],
   "source": [
    "drive2.close()"
   ]
  },
  {
   "cell_type": "code",
   "execution_count": 12,
   "metadata": {},
   "outputs": [],
   "source": [
    "drive2.quit()"
   ]
  },
  {
   "cell_type": "markdown",
   "metadata": {},
   "source": [
    "## DIGITE SEU PROPRIO DADO A SER PESQUISADO NA WEB ;)"
   ]
  },
  {
   "cell_type": "code",
   "execution_count": 13,
   "metadata": {},
   "outputs": [],
   "source": [
    "drive3 = webdriver.Chrome()"
   ]
  },
  {
   "cell_type": "code",
   "execution_count": 14,
   "metadata": {},
   "outputs": [],
   "source": [
    "drive3.get(\"https://www.google.com.br\")"
   ]
  },
  {
   "cell_type": "code",
   "execution_count": 15,
   "metadata": {},
   "outputs": [],
   "source": [
    "def pesquisa_google():\n",
    "    pesquisa = str(input('O que vc quer achar no google?: '))\n",
    "    return pesquisa"
   ]
  },
  {
   "cell_type": "code",
   "execution_count": 16,
   "metadata": {},
   "outputs": [],
   "source": [
    "google_search2 = drive3.find_element_by_name('q')"
   ]
  },
  {
   "cell_type": "code",
   "execution_count": null,
   "metadata": {},
   "outputs": [],
   "source": [
    "google_search2.clear()\n",
    "google_search2.send_keys(pesquisa_google())\n",
    "google_search2.send_keys(Keys.RETURN)"
   ]
  },
  {
   "cell_type": "markdown",
   "metadata": {},
   "source": [
    "## tudo em uma só função"
   ]
  },
  {
   "cell_type": "code",
   "execution_count": null,
   "metadata": {},
   "outputs": [],
   "source": [
    "def pesquisa_completa(pesquisa):\n",
    "    drive = webdriver.Chrome()\n",
    "    drive.get(\"https://www.google.com.br\")\n",
    "    google_search = drive.find_element_by_name('q')\n",
    "    \n",
    "    google_search.clear()\n",
    "    google_search.send_keys(pesquisa)\n",
    "    google_search.send_keys(Keys.RETURN)\n",
    "    \n",
    "    #assert (\"Not results found\") not in drive2.page_source\n",
    "    "
   ]
  },
  {
   "cell_type": "code",
   "execution_count": null,
   "metadata": {},
   "outputs": [],
   "source": [
    "pesquisa_completa(\"Faz me rir\")"
   ]
  },
  {
   "cell_type": "code",
   "execution_count": null,
   "metadata": {},
   "outputs": [],
   "source": []
  }
 ],
 "metadata": {
  "colab": {
   "name": "testesAuto.ipynb",
   "provenance": []
  },
  "kernelspec": {
   "display_name": "Python 3",
   "language": "python",
   "name": "python3"
  },
  "language_info": {
   "codemirror_mode": {
    "name": "ipython",
    "version": 3
   },
   "file_extension": ".py",
   "mimetype": "text/x-python",
   "name": "python",
   "nbconvert_exporter": "python",
   "pygments_lexer": "ipython3",
   "version": "3.6.9"
  }
 },
 "nbformat": 4,
 "nbformat_minor": 4
}
